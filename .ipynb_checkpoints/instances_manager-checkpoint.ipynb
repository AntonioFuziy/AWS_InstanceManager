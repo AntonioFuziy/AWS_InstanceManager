{
 "cells": [
  {
   "cell_type": "code",
   "execution_count": 3,
   "metadata": {},
   "outputs": [],
   "source": [
    "import boto3\n",
    "import os\n",
    "from botocore.config import Config"
   ]
  },
  {
   "cell_type": "code",
   "execution_count": 4,
   "metadata": {},
   "outputs": [],
   "source": [
    "database_region =  Config(region_name=\"us-east-2\")"
   ]
  },
  {
   "cell_type": "code",
   "execution_count": 5,
   "metadata": {},
   "outputs": [],
   "source": [
    "database_resource = boto3.resource(\"ec2\", config=database_region)"
   ]
  },
  {
   "cell_type": "code",
   "execution_count": null,
   "metadata": {},
   "outputs": [],
   "source": [
    "run_postgres = '''\n",
    "#!/bin/bash\n",
    "sudo apt update\n",
    "sudo apt install postgresql postgresql-contrib -y\n",
    "sudo -i -u postgres bash << EOF\n",
    "createuser -s cloud -W\n",
    "cloud\n",
    "createdb -O cloud tasks\n",
    "echo \"listen_addresses = '*'\" >>  /etc/postgresql/12/main/postgresql.conf\n",
    "echo \"host all all 0.0.0.0/0 trust\" >> /etc/postgresql/12/main/pg_hba.conf\n",
    "EOF\n",
    "sudo ufw allow 5432/tcp\n",
    "sudo systemctl restart postgresql\n",
    "'''"
   ]
  },
  {
   "cell_type": "code",
   "execution_count": null,
   "metadata": {},
   "outputs": [],
   "source": [
    "security_group_database = database_resource.create_security_group(\n",
    "    Description='string',\n",
    "    GroupName='database_security_group',\n",
    "    TagSpecifications=[\n",
    "        {\n",
    "            'ResourceType': 'security-group',\n",
    "            'Tags': [\n",
    "                {\n",
    "                    'Key': 'Name',\n",
    "                    'Value': 'postgres'\n",
    "                },\n",
    "            ]\n",
    "        },\n",
    "    ],\n",
    ")"
   ]
  },
  {
   "cell_type": "code",
   "execution_count": null,
   "metadata": {},
   "outputs": [],
   "source": [
    "database_instance = database_resource.create_instances(\n",
    "    ImageId=\"ami-0b9064170e32bde34\",\n",
    "    MinCount=1,\n",
    "    MaxCount=1,\n",
    "    InstanceType=\"t2.micro\",\n",
    "    KeyName=\"postgres_database\"\n",
    ")"
   ]
  }
 ],
 "metadata": {
  "kernelspec": {
   "display_name": "Python 3.8.5 64-bit",
   "language": "python",
   "name": "python38564bitcd2c60667fd548188c3681b40b673c1d"
  },
  "language_info": {
   "codemirror_mode": {
    "name": "ipython",
    "version": 3
   },
   "file_extension": ".py",
   "mimetype": "text/x-python",
   "name": "python",
   "nbconvert_exporter": "python",
   "pygments_lexer": "ipython3",
   "version": "3.8.10"
  }
 },
 "nbformat": 4,
 "nbformat_minor": 4
}
